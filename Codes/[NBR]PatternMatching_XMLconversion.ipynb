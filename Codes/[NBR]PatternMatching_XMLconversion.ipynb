{
  "nbformat": 4,
  "nbformat_minor": 0,
  "metadata": {
    "colab": {
      "provenance": [],
      "collapsed_sections": [
        "onU-fEIuDkOf",
        "X7JvfmVJ8SDS"
      ]
    },
    "kernelspec": {
      "name": "python3",
      "display_name": "Python 3"
    },
    "language_info": {
      "name": "python"
    }
  },
  "cells": [
    {
      "cell_type": "markdown",
      "source": [
        "#####Explicação\n"
      ],
      "metadata": {
        "id": "onU-fEIuDkOf"
      }
    },
    {
      "cell_type": "markdown",
      "source": [
        "A correspondência sequencial é necessária para evitar que o algoritmo de busca percorra todas as palavras para cada padrão. A correspondência está configurada para que as palavras sejam buscadas pelos maiores padrões e, havendo palavras restantes, a busca continua com os padrões menores na mesma sequencia. Este método garante que as maiores expressões sejam capturadas por inteiro e que não haja segmentação das expressões resultando em erros de classificação.\n"
      ],
      "metadata": {
        "id": "guV4tbYjDowA"
      }
    },
    {
      "cell_type": "markdown",
      "source": [
        "## BUSCA SEQUENCIAL DE PADRÕES"
      ],
      "metadata": {
        "id": "Cahos-rVSfLx"
      }
    },
    {
      "cell_type": "code",
      "source": [
        "import spacy\n",
        "from spacy.matcher import Matcher"
      ],
      "metadata": {
        "id": "0f6oyJo9_aFN"
      },
      "execution_count": null,
      "outputs": []
    },
    {
      "cell_type": "code",
      "source": [
        "!python -m spacy download pt_core_news_md"
      ],
      "metadata": {
        "id": "oA2NlXzCZIaI"
      },
      "execution_count": null,
      "outputs": []
    },
    {
      "cell_type": "code",
      "source": [
        "#Carrega o texto do repositório e o converte para uma lista de sentenças\n",
        "import requests\n",
        "#url = \"https://raw.githubusercontent.com/dglopes/NBR15575/main/RequisitosP1_B_v4.txt\"\n",
        "url = \"https://github.com/dglopes/NBR15575/raw/main/Cap8_SegurancaIncendio_v1.txt\"\n",
        "\n",
        "texto_completo = requests.get(url).text\n",
        "texto = texto_completo.split(\"\\r\\n\")\n",
        "print(\"total de sentenças:\", len(texto),\"\\n\")\n",
        "\n",
        "for t in range(len(texto)):\n",
        "    print(f\"{t+1} {texto[t]}\" )"
      ],
      "metadata": {
        "id": "CgrYj5LAhfU4"
      },
      "execution_count": null,
      "outputs": []
    },
    {
      "cell_type": "code",
      "source": [
        "#Dicionário com padrões organizados por rótulo\n",
        "padroes = [\n",
        "    {\"label\": \"REFERENCIA\", \"pattern\": [\n",
        "        [{\"LOWER\": \"normas\"},{\"POS\": \"ADJ\"}],#modif\n",
        "        [{\"LOWER\": \"normas\"},{\"LOWER\": \"específicas\"}],#modif\n",
        "        [{\"LOWER\": \"normas\"},{\"LOWER\": \"brasileiras\"}],#modif\n",
        "        [{\"LOWER\": \"legislação\"},{\"LOWER\": \"vigente\"}],#modif\n",
        "        [{\"LOWER\": \"abnt\"},{\"LOWER\": \"nbr\"},{\"POS\":\"NUM\"}],\n",
        "        [{\"POS\": \"PROPN\", \"MORPH\": {\"IS_SUPERSET\": [\"Gender=Fem\"]}},{\"POS\": \"PROPN\"},{\"POS\": \"NUM\"}],\n",
        "        [{\"POS\": \"PROPN\", \"MORPH\": {\"IS_SUPERSET\": [\"Gender=Fem\"]}},{\"POS\": \"ADP\"},{\"POS\": \"NUM\"}],\n",
        "        [{\"POS\": \"PROPN\", \"MORPH\": {\"IS_SUPERSET\": [\"Gender=Fem\"]}},{\"POS\": \"ADP\"},{\"POS\": \"NUM\"}],\n",
        "        [{\"POS\": \"NOUN\", \"MORPH\": {\"IS_SUPERSET\": [\"Gender=Fem\"]}},{\"POS\": \"PROPN\"},{\"POS\": \"ADJ\"}],\n",
        "        [{\"POS\": \"PROPN\", \"DEP\":\"obj\"},{\"POS\": \"PROPN\"}]\n",
        "    ]},\n",
        "\n",
        "    {\"label\": \"EXIGENCIA\", \"pattern\": [\n",
        "        [{\"POS\": \"VERB\"},{\"POS\": \"AUX\"},{\"POS\": \"VERB\"},{\"POS\": \"CCONJ\"}, {\"POS\": \"VERB\"}],#deve ser projetadas e executadas\n",
        "        [{\"POS\": \"VERB\"},{\"POS\": \"AUX\"},{\"POS\": \"CCONJ\"}, {\"POS\": \"VERB\"}],\n",
        "        [{\"POS\": \"VERB\"},{\"POS\": \"ADV\", \"OP\": \"?\"},{\"POS\": \"AUX\"},{\"POS\": \"VERB\"}], #deve ser projetada; deve ser atendida\n",
        "        [{\"POS\": \"VERB\"},{\"POS\": \"VERB\"},{\"POS\": \"ADP\"}], #deve ser feita;\n",
        "        [{\"LOWER\": \"não\", \"OP\": \"?\"},{\"POS\": \"VERB\"},{\"POS\": \"VERB\"}], # (não)deve dispor; (não)deve atender; deve possibilitar; deve ter\n",
        "        [{\"LOWER\": \"não\", \"OP\": \"?\"},{\"POS\": \"VERB\"},{\"POS\": \"VERB\"}],\n",
        "        [{\"LOWER\": \"não\", \"OP\": \"?\"},{\"POS\": \"VERB\"},{\"POS\": \"AUX\"},{\"POS\": \"ADJ\"}] #(não) pode ser menor\n",
        "        ]},\n",
        "\n",
        "    {\"label\": \"COMPONENTE\", \"pattern\": [\n",
        "        [{\"POS\": \"NOUN\"},{\"POS\": \"ADP\"},{\"POS\": \"NOUN\"}],\n",
        "        [{\"POS\": \"NOUN\"},{\"POS\": \"ADP\"},{\"POS\": \"NOUN\"},{\"POS\": \"ADJ\"}],#modif\n",
        "        [{\"POS\": \"NOUN\"},{\"POS\": \"ADP\"},{\"POS\": \"ADJ\"}],\n",
        "        [{\"POS\": \"NOUN\", \"DEP\":\"nsubj\"},{\"POS\": \"ADJ\"},{\"POS\": \"ADJ\"}],\n",
        "        [{\"POS\": \"NOUN\"},{\"POS\": \"ADP\"},{\"POS\": \"NOUN\"},{\"POS\": \"ADP\"},{\"POS\": \"NOUN\"}],#modif\n",
        "        [{\"POS\": \"NOUN\"},{\"POS\": \"ADP\"},{\"POS\": \"NOUN\"},{\"POS\": \"ADP\"},{\"POS\": \"NOUN\"},{\"POS\": \"VERB\"},{\"POS\": \"PUNCT\"}],#modif\n",
        "        [{\"POS\": \"NOUN\", \"DEP\":\"nsubj\"}],\n",
        "        [{\"POS\": \"NOUN\"},{\"POS\": \"ADJ\"}]\n",
        "    ]},\n",
        "\n",
        "    {\"label\": \"PARAMETRO\", \"pattern\": [\n",
        "        [{\"POS\": \"NOUN\"}, {\"POS\": \"ADV\"},{\"POS\": \"ADP\"},{\"POS\": \"NOUN\"}],\n",
        "        [{\"POS\": \"NOUN\", \"DEP\":\"obj\"}, {\"POS\": \"ADP\"},{\"POS\": \"NOUN\"}]\n",
        "    ]},\n",
        "\n",
        "    {\"label\": \"VALOR\", \"pattern\": [\n",
        "        [{\"POS\":\"NUM\"},{\"POS\": \"NOUN\"}],\n",
        "        [{\"POS\":\"NUM\"},{\"POS\": \"SYM\"}]\n",
        "    ]}\n",
        "]"
      ],
      "metadata": {
        "id": "dBdedqFtWS5a"
      },
      "execution_count": null,
      "outputs": []
    },
    {
      "cell_type": "code",
      "source": [
        "#Funcão para buscar os padrões de modo sequencial\n",
        "from spacy.matcher import Matcher\n",
        "from spacy.tokens import Span\n",
        "\n",
        "def buscar_padroes_sequencialmente(doc, padroes):\n",
        "    resultados = []\n",
        "    tokens_processados = set()\n",
        "\n",
        "    for padrao in padroes:\n",
        "        label = padrao[\"label\"]\n",
        "        matcher = Matcher(doc.vocab)\n",
        "\n",
        "        for i, padrao_atual in enumerate(padrao[\"pattern\"]):\n",
        "            matcher.add(f\"{label}\", [padrao_atual], greedy = \"LONGEST\")\n",
        "\n",
        "        for padrao_id, inicio, fim in matcher(doc):\n",
        "            rotulo = matcher.vocab.strings[padrao_id]\n",
        "\n",
        "            # Verifica se todos tokens já foram processados\n",
        "            if any(token.i in tokens_processados for token in doc[inicio:fim]):\n",
        "                continue\n",
        "\n",
        "            # Adiciona os tokens do padrão ao conjunto de tokens processados\n",
        "            tokens_processados.update(token.i for token in doc[inicio:fim])\n",
        "\n",
        "            # Converte os tokens correspondentes em um Span e adiciona à lista\n",
        "            span = Span(doc, inicio, fim, label=rotulo)\n",
        "            resultados.append((rótulo, span))\n",
        "\n",
        "    return resultados\n"
      ],
      "metadata": {
        "id": "dWbyGrQk1obc"
      },
      "execution_count": null,
      "outputs": []
    },
    {
      "cell_type": "code",
      "source": [
        "nlp = spacy.load(\"pt_core_news_md\")\n",
        "\n",
        "lista_resultados = []\n",
        "\n",
        "for i, sentence in enumerate(texto,1):\n",
        "    doc = nlp(sentence)\n",
        "\n",
        "    resultados = buscar_padroes_sequencialmente(doc, padroes) #aqui carrega a função de busca de padrões\n",
        "\n",
        "    resultados_sentenca = {\n",
        "        \"FRASE\" : sentence,\n",
        "        \"TERMOS\" : []\n",
        "    }\n",
        "\n",
        "    for rotulo, span in resultados:\n",
        "        resultados_sentenca[\"TERMOS\"].append({\n",
        "            \"ROTULO\" : rotulo,\n",
        "            \"TEXTO\" : span.text\n",
        "        })\n",
        "\n",
        "    lista_resultados.append(resultados_sentenca)"
      ],
      "metadata": {
        "id": "u6duexWCDF_j"
      },
      "execution_count": null,
      "outputs": []
    },
    {
      "cell_type": "code",
      "source": [
        "for i, item in enumerate(lista_resultados,1):\n",
        "    print(i, item)"
      ],
      "metadata": {
        "id": "SwD7FDbYGs_d"
      },
      "execution_count": null,
      "outputs": []
    },
    {
      "cell_type": "markdown",
      "source": [
        "##### explicacao"
      ],
      "metadata": {
        "id": "X7JvfmVJ8SDS"
      }
    },
    {
      "cell_type": "markdown",
      "source": [
        "O resultado é uma lista armazenada na variável lista_resultados. Mas esta lista é uma lista de dicionários. Cada item da lista é um dicionário composto pelas chaves [\"FRASE\"] e [\"TERMOS\"]. Já termos armazena outra lista de dicionários contendo as chaves [\"ROTULO\"] e [\"TEXTO\"]."
      ],
      "metadata": {
        "id": "P-OcFl7MA0PK"
      }
    },
    {
      "cell_type": "markdown",
      "source": [
        "####Gerar XML"
      ],
      "metadata": {
        "id": "QyPOrfM6_bZf"
      }
    },
    {
      "cell_type": "code",
      "source": [
        "import xml.etree.ElementTree as ET\n",
        "\n",
        "dados = lista_resultados\n",
        "\n",
        "root = ET.Element(\"ROOT\")\n",
        "\n",
        "for dado in dados:\n",
        "    frase_element = ET.SubElement(root, \"FRASE\")\n",
        "    frase_element.text = dado['FRASE']\n",
        "\n",
        "    termos_element = ET.SubElement(frase_element, \"TERMOS\")\n",
        "\n",
        "    for termo in dado['TERMOS']:\n",
        "        termo_element = ET.SubElement(termos_element, termo['ROTULO'])\n",
        "        termo_element.text = termo['TEXTO']\n",
        "\n",
        "tree = ET.ElementTree(root)\n",
        "tree.write(\"output_v2.xml\")\n"
      ],
      "metadata": {
        "id": "EzBKX9Qd_Jge"
      },
      "execution_count": null,
      "outputs": []
    }
  ]
}
